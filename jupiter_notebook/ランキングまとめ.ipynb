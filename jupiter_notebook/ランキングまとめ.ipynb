{
 "cells": [
  {
   "cell_type": "code",
   "execution_count": 1,
   "id": "significant-panic",
   "metadata": {},
   "outputs": [],
   "source": [
    "from selenium import webdriver"
   ]
  },
  {
   "cell_type": "code",
   "execution_count": 2,
   "id": "noticed-retention",
   "metadata": {},
   "outputs": [],
   "source": [
    "browser = webdriver.Chrome()"
   ]
  },
  {
   "cell_type": "code",
   "execution_count": 3,
   "id": "interracial-sheffield",
   "metadata": {},
   "outputs": [],
   "source": [
    "browser.get('https://scraping-for-beginner.herokuapp.com/ranking/')"
   ]
  },
  {
   "cell_type": "markdown",
   "id": "active-eight",
   "metadata": {},
   "source": [
    "# １つの観光地\n",
    "## 観光地名の取得"
   ]
  },
  {
   "cell_type": "code",
   "execution_count": 5,
   "id": "decent-henry",
   "metadata": {},
   "outputs": [],
   "source": [
    "elem_rankingbox = browser.find_element_by_class_name('u_areaListRankingBox')"
   ]
  },
  {
   "cell_type": "code",
   "execution_count": 13,
   "id": "controversial-nancy",
   "metadata": {},
   "outputs": [
    {
     "data": {
      "text/plain": [
       "'1\\n観光地 1'"
      ]
     },
     "execution_count": 13,
     "metadata": {},
     "output_type": "execute_result"
    }
   ],
   "source": [
    "elem_title = elem_rankingbox.find_element_by_class_name('u_title')\n",
    "#elem_title = elem_rankingbox.find_element_by_class_name('u_title').find_element_by_tag_name('h2')\n",
    "elem_title.text"
   ]
  },
  {
   "cell_type": "code",
   "execution_count": 12,
   "id": "dominican-camping",
   "metadata": {
    "scrolled": true
   },
   "outputs": [
    {
     "data": {
      "text/plain": [
       "'観光地 1'"
      ]
     },
     "execution_count": 12,
     "metadata": {},
     "output_type": "execute_result"
    }
   ],
   "source": [
    "title = elem_title.text\n",
    "title.split(\"\\n\")[1]"
   ]
  },
  {
   "cell_type": "markdown",
   "id": "directed-mechanism",
   "metadata": {},
   "source": [
    "## 演習1"
   ]
  },
  {
   "cell_type": "code",
   "execution_count": 34,
   "id": "moral-swift",
   "metadata": {},
   "outputs": [
    {
     "name": "stdout",
     "output_type": "stream",
     "text": [
      "4.7\n",
      "[{'楽しさ': '4.6'}, {'人混みの多さ': '4.5'}, {'景色': '4.9'}, {'アクセス': '4.2'}]\n"
     ]
    }
   ],
   "source": [
    "elem_rankingbox = browser.find_element_by_class_name('u_areaListRankingBox')\n",
    "judge_star = elem_rankingbox.find_element_by_class_name('evaluateNumber')\n",
    "print(judge_star.text)\n",
    "\n",
    "#演習2 ランキングの情報取得\n",
    "tipsItems = elem_rankingbox.find_element_by_class_name('u_categoryTipsItem').find_elements_by_class_name('is_rank')\n",
    "tags = elem_rankingbox.find_element_by_class_name('u_categoryTipsItem').find_elements_by_tag_name('dt')\n",
    "#tipsItems = tipsItems.find_element_by_class_name('evaluateNumber')\n",
    "#print(tipsItems)\n",
    "#print(tags[0].text)\n",
    "ranks = []\n",
    "\n",
    "for i in tipsItems:\n",
    "    name = tags[tipsItems.index(i)].text\n",
    "    rank = i.find_element_by_class_name('evaluateNumber').text\n",
    "    ranks.append({name:rank})\n",
    "\n",
    "print(ranks)\n"
   ]
  },
  {
   "cell_type": "markdown",
   "id": "native-congo",
   "metadata": {},
   "source": [
    "## すべての観光地を取得する"
   ]
  },
  {
   "cell_type": "code",
   "execution_count": 49,
   "id": "turned-attribute",
   "metadata": {},
   "outputs": [
    {
     "data": {
      "text/plain": [
       "'1\\n観光地 1'"
      ]
     },
     "execution_count": 49,
     "metadata": {},
     "output_type": "execute_result"
    }
   ],
   "source": [
    "elem_rankingbox = browser.find_element_by_class_name('u_areaListRankingBox')\n",
    "elem_title = elem_rankingbox.find_element_by_class_name('u_title').find_element_by_tag_name('h2')\n",
    "elem_title.text"
   ]
  },
  {
   "cell_type": "code",
   "execution_count": 50,
   "id": "alone-advice",
   "metadata": {},
   "outputs": [
    {
     "data": {
      "text/plain": [
       "10"
      ]
     },
     "execution_count": 50,
     "metadata": {},
     "output_type": "execute_result"
    }
   ],
   "source": [
    "elems_rankingbox = browser.find_elements_by_class_name('u_areaListRankingBox')\n",
    "len(elems_rankingbox)"
   ]
  },
  {
   "cell_type": "code",
   "execution_count": 53,
   "id": "private-butler",
   "metadata": {},
   "outputs": [
    {
     "name": "stdout",
     "output_type": "stream",
     "text": [
      "['観光地 1', '観光地 2', '観光地 3', '観光地 4', '観光地 5', '観光地 6', '観光地 7', '観光地 8', '観光地 9', '観光地 10']\n"
     ]
    }
   ],
   "source": [
    "\n",
    "#elem_rankingbox = elems_rankingbox\n",
    "\n",
    "titles = []\n",
    "for i in elems_rankingbox:\n",
    "    title = i.find_element_by_class_name('u_title').text\n",
    "    titles.append(title.split('\\n')[1])\n",
    "\n",
    "print(titles)"
   ]
  },
  {
   "cell_type": "code",
   "execution_count": 71,
   "id": "interior-breast",
   "metadata": {},
   "outputs": [
    {
     "name": "stdout",
     "output_type": "stream",
     "text": [
      "[{'観光地 1': [{'楽しさ': '4.6'}, {'人混みの多さ': '4.5'}, {'景色': '4.9'}, {'アクセス': '4.2'}]}, {'観光地 2': [{'楽しさ': '4.6'}, {'人混みの多さ': '4.5'}, {'景色': '4.9'}, {'アクセス': '4.2'}]}, {'観光地 3': [{'楽しさ': '4.5'}, {'人混みの多さ': '4.4'}, {'景色': '4.8'}, {'アクセス': '4.1'}]}, {'観光地 4': [{'楽しさ': '4.4'}, {'人混みの多さ': '4.4'}, {'景色': '4.8'}, {'アクセス': '4.0'}]}, {'観光地 5': [{'楽しさ': '4.4'}, {'人混みの多さ': '4.3'}, {'景色': '4.7'}, {'アクセス': '4.0'}]}, {'観光地 6': [{'楽しさ': '4.3'}, {'人混みの多さ': '4.3'}, {'景色': '4.7'}, {'アクセス': '3.9'}]}, {'観光地 7': [{'楽しさ': '4.2'}, {'人混みの多さ': '4.2'}, {'景色': '4.6'}, {'アクセス': '3.8'}]}, {'観光地 8': [{'楽しさ': '4.2'}, {'人混みの多さ': '4.2'}, {'景色': '4.6'}, {'アクセス': '3.8'}]}, {'観光地 9': [{'楽しさ': '4.1'}, {'人混みの多さ': '4.1'}, {'景色': '4.5'}, {'アクセス': '3.7'}]}, {'観光地 10': [{'楽しさ': '4.0'}, {'人混みの多さ': '4.1'}, {'景色': '4.4'}, {'アクセス': '3.6'}]}]\n",
      "name ['観光地 1', '観光地 2', '観光地 3', '観光地 4', '観光地 5', '観光地 6', '観光地 7', '観光地 8', '観光地 9', '観光地 10']\n",
      "rank ['4.7', '4.7', '4.6', '4.5', '4.5', '4.4', '4.3', '4.3', '4.2', '4.1']\n",
      "categories [['4.6', '4.5', '4.9', '4.2'], ['4.6', '4.5', '4.9', '4.2'], ['4.5', '4.4', '4.8', '4.1'], ['4.4', '4.4', '4.8', '4.0'], ['4.4', '4.3', '4.7', '4.0'], ['4.3', '4.3', '4.7', '3.9'], ['4.2', '4.2', '4.6', '3.8'], ['4.2', '4.2', '4.6', '3.8'], ['4.1', '4.1', '4.5', '3.7'], ['4.0', '4.1', '4.4', '3.6']]\n"
     ]
    }
   ],
   "source": [
    "#観光地のリスト\n",
    "elems_rankingbox = browser.find_elements_by_class_name('u_areaListRankingBox')\n",
    "\n",
    "#\n",
    "#tipsItems = elem_rankingbox.find_element_by_class_name('u_categoryTipsItem').find_elements_by_class_name('is_rank')\n",
    "#tags = elem_rankingbox.find_element_by_class_name('u_categoryTipsItem').find_elements_by_tag_name('dt')\n",
    "ranks = []\n",
    "\n",
    "titles = []\n",
    "rankk = []\n",
    "categories = []\n",
    "\n",
    "for j in elems_rankingbox:\n",
    "    rank_list = j.find_element_by_class_name('u_categoryTipsItem').find_elements_by_class_name('is_rank')\n",
    "    judge_star = j.find_element_by_class_name('evaluateNumber')\n",
    "    \n",
    "    ranks2 = []\n",
    "    categories2 =[]\n",
    "    for i in rank_list:\n",
    "        name = tags[rank_list.index(i)].text\n",
    "        rank = i.find_element_by_class_name('evaluateNumber').text\n",
    "        ranks2.append({name:rank})\n",
    "        \n",
    "        categories2.append(rank)\n",
    "    \n",
    "    rankk.append(judge_star.text)\n",
    "    titles.append(j.text.split(\"\\n\")[1])\n",
    "    ranks.append({j.text.split(\"\\n\")[1]:ranks2})\n",
    "    categories.append(categories2)\n",
    "\n",
    "print(ranks)\n",
    "\n",
    "print(\"name\", titles)\n",
    "print(\"rank\", rankk)\n",
    "print(\"categories\", categories)\n"
   ]
  },
  {
   "cell_type": "code",
   "execution_count": 72,
   "id": "falling-decision",
   "metadata": {},
   "outputs": [],
   "source": [
    "import pandas as pd"
   ]
  },
  {
   "cell_type": "code",
   "execution_count": 73,
   "id": "offensive-disco",
   "metadata": {},
   "outputs": [],
   "source": [
    "df = pd.DataFrame()"
   ]
  },
  {
   "cell_type": "code",
   "execution_count": 75,
   "id": "frequent-companion",
   "metadata": {},
   "outputs": [],
   "source": [
    "df['観光地名'] = titles\n",
    "df['総合評価'] = rankk"
   ]
  },
  {
   "cell_type": "code",
   "execution_count": 76,
   "id": "oriental-porter",
   "metadata": {},
   "outputs": [
    {
     "data": {
      "text/html": [
       "<div>\n",
       "<style scoped>\n",
       "    .dataframe tbody tr th:only-of-type {\n",
       "        vertical-align: middle;\n",
       "    }\n",
       "\n",
       "    .dataframe tbody tr th {\n",
       "        vertical-align: top;\n",
       "    }\n",
       "\n",
       "    .dataframe thead th {\n",
       "        text-align: right;\n",
       "    }\n",
       "</style>\n",
       "<table border=\"1\" class=\"dataframe\">\n",
       "  <thead>\n",
       "    <tr style=\"text-align: right;\">\n",
       "      <th></th>\n",
       "      <th>観光地名</th>\n",
       "      <th>総合評価</th>\n",
       "    </tr>\n",
       "  </thead>\n",
       "  <tbody>\n",
       "    <tr>\n",
       "      <th>0</th>\n",
       "      <td>観光地 1</td>\n",
       "      <td>4.7</td>\n",
       "    </tr>\n",
       "    <tr>\n",
       "      <th>1</th>\n",
       "      <td>観光地 2</td>\n",
       "      <td>4.7</td>\n",
       "    </tr>\n",
       "    <tr>\n",
       "      <th>2</th>\n",
       "      <td>観光地 3</td>\n",
       "      <td>4.6</td>\n",
       "    </tr>\n",
       "    <tr>\n",
       "      <th>3</th>\n",
       "      <td>観光地 4</td>\n",
       "      <td>4.5</td>\n",
       "    </tr>\n",
       "    <tr>\n",
       "      <th>4</th>\n",
       "      <td>観光地 5</td>\n",
       "      <td>4.5</td>\n",
       "    </tr>\n",
       "    <tr>\n",
       "      <th>5</th>\n",
       "      <td>観光地 6</td>\n",
       "      <td>4.4</td>\n",
       "    </tr>\n",
       "    <tr>\n",
       "      <th>6</th>\n",
       "      <td>観光地 7</td>\n",
       "      <td>4.3</td>\n",
       "    </tr>\n",
       "    <tr>\n",
       "      <th>7</th>\n",
       "      <td>観光地 8</td>\n",
       "      <td>4.3</td>\n",
       "    </tr>\n",
       "    <tr>\n",
       "      <th>8</th>\n",
       "      <td>観光地 9</td>\n",
       "      <td>4.2</td>\n",
       "    </tr>\n",
       "    <tr>\n",
       "      <th>9</th>\n",
       "      <td>観光地 10</td>\n",
       "      <td>4.1</td>\n",
       "    </tr>\n",
       "  </tbody>\n",
       "</table>\n",
       "</div>"
      ],
      "text/plain": [
       "     観光地名 総合評価\n",
       "0   観光地 1  4.7\n",
       "1   観光地 2  4.7\n",
       "2   観光地 3  4.6\n",
       "3   観光地 4  4.5\n",
       "4   観光地 5  4.5\n",
       "5   観光地 6  4.4\n",
       "6   観光地 7  4.3\n",
       "7   観光地 8  4.3\n",
       "8   観光地 9  4.2\n",
       "9  観光地 10  4.1"
      ]
     },
     "execution_count": 76,
     "metadata": {},
     "output_type": "execute_result"
    }
   ],
   "source": [
    "df"
   ]
  },
  {
   "cell_type": "code",
   "execution_count": 80,
   "id": "pursuant-hopkins",
   "metadata": {},
   "outputs": [],
   "source": [
    "df_categories = pd.DataFrame(categories)\n",
    "df_categories.columns = ['楽しさ','人混みの多さ','景色','アクセス']"
   ]
  },
  {
   "cell_type": "code",
   "execution_count": 83,
   "id": "inside-reporter",
   "metadata": {
    "scrolled": true
   },
   "outputs": [],
   "source": [
    "df = pd.concat([df, df_categories], axis=1)"
   ]
  },
  {
   "cell_type": "code",
   "execution_count": 85,
   "id": "prostate-administration",
   "metadata": {
    "scrolled": true
   },
   "outputs": [],
   "source": [
    "df.to_csv(\"観光地情報.csv\", index=False)"
   ]
  },
  {
   "cell_type": "markdown",
   "id": "pressed-arlington",
   "metadata": {},
   "source": [
    "## 全ページ情報の取得(ページまたぎも対応)"
   ]
  },
  {
   "cell_type": "code",
   "execution_count": null,
   "id": "dirty-treasurer",
   "metadata": {},
   "outputs": [],
   "source": [
    "https://scraping-for-beginner.herokuapp.com/ranking/?page=3"
   ]
  },
  {
   "cell_type": "markdown",
   "id": "velvet-grain",
   "metadata": {},
   "source": [
    "* 観光地名\n",
    "* 総合評価\n",
    "* 各項目"
   ]
  },
  {
   "cell_type": "code",
   "execution_count": 94,
   "id": "certified-bailey",
   "metadata": {},
   "outputs": [
    {
     "ename": "StaleElementReferenceException",
     "evalue": "Message: stale element reference: element is not attached to the page document\n  (Session info: chrome=87.0.4280.141)\n",
     "output_type": "error",
     "traceback": [
      "\u001b[0;31m---------------------------------------------------------------------------\u001b[0m",
      "\u001b[0;31mStaleElementReferenceException\u001b[0m            Traceback (most recent call last)",
      "\u001b[0;32m<ipython-input-94-5357c90cec28>\u001b[0m in \u001b[0;36m<module>\u001b[0;34m\u001b[0m\n\u001b[1;32m     15\u001b[0m \u001b[0;34m\u001b[0m\u001b[0m\n\u001b[1;32m     16\u001b[0m         \u001b[0;32mfor\u001b[0m \u001b[0mi\u001b[0m \u001b[0;32min\u001b[0m \u001b[0mrank_list\u001b[0m\u001b[0;34m:\u001b[0m\u001b[0;34m\u001b[0m\u001b[0;34m\u001b[0m\u001b[0m\n\u001b[0;32m---> 17\u001b[0;31m             \u001b[0mname\u001b[0m \u001b[0;34m=\u001b[0m \u001b[0mtags\u001b[0m\u001b[0;34m[\u001b[0m\u001b[0mrank_list\u001b[0m\u001b[0;34m.\u001b[0m\u001b[0mindex\u001b[0m\u001b[0;34m(\u001b[0m\u001b[0mi\u001b[0m\u001b[0;34m)\u001b[0m\u001b[0;34m]\u001b[0m\u001b[0;34m.\u001b[0m\u001b[0mtext\u001b[0m\u001b[0;34m\u001b[0m\u001b[0;34m\u001b[0m\u001b[0m\n\u001b[0m\u001b[1;32m     18\u001b[0m             \u001b[0mrank\u001b[0m \u001b[0;34m=\u001b[0m \u001b[0mi\u001b[0m\u001b[0;34m.\u001b[0m\u001b[0mfind_element_by_class_name\u001b[0m\u001b[0;34m(\u001b[0m\u001b[0;34m'evaluateNumber'\u001b[0m\u001b[0;34m)\u001b[0m\u001b[0;34m.\u001b[0m\u001b[0mtext\u001b[0m\u001b[0;34m\u001b[0m\u001b[0;34m\u001b[0m\u001b[0m\n\u001b[1;32m     19\u001b[0m             \u001b[0mranks2\u001b[0m\u001b[0;34m.\u001b[0m\u001b[0mappend\u001b[0m\u001b[0;34m(\u001b[0m\u001b[0;34m{\u001b[0m\u001b[0mname\u001b[0m\u001b[0;34m:\u001b[0m\u001b[0mrank\u001b[0m\u001b[0;34m}\u001b[0m\u001b[0;34m)\u001b[0m\u001b[0;34m\u001b[0m\u001b[0;34m\u001b[0m\u001b[0m\n",
      "\u001b[0;32m~/.pyenv/versions/3.9.0/lib/python3.9/site-packages/selenium/webdriver/remote/webelement.py\u001b[0m in \u001b[0;36mtext\u001b[0;34m(self)\u001b[0m\n\u001b[1;32m     74\u001b[0m     \u001b[0;32mdef\u001b[0m \u001b[0mtext\u001b[0m\u001b[0;34m(\u001b[0m\u001b[0mself\u001b[0m\u001b[0;34m)\u001b[0m\u001b[0;34m:\u001b[0m\u001b[0;34m\u001b[0m\u001b[0;34m\u001b[0m\u001b[0m\n\u001b[1;32m     75\u001b[0m         \u001b[0;34m\"\"\"The text of the element.\"\"\"\u001b[0m\u001b[0;34m\u001b[0m\u001b[0;34m\u001b[0m\u001b[0m\n\u001b[0;32m---> 76\u001b[0;31m         \u001b[0;32mreturn\u001b[0m \u001b[0mself\u001b[0m\u001b[0;34m.\u001b[0m\u001b[0m_execute\u001b[0m\u001b[0;34m(\u001b[0m\u001b[0mCommand\u001b[0m\u001b[0;34m.\u001b[0m\u001b[0mGET_ELEMENT_TEXT\u001b[0m\u001b[0;34m)\u001b[0m\u001b[0;34m[\u001b[0m\u001b[0;34m'value'\u001b[0m\u001b[0;34m]\u001b[0m\u001b[0;34m\u001b[0m\u001b[0;34m\u001b[0m\u001b[0m\n\u001b[0m\u001b[1;32m     77\u001b[0m \u001b[0;34m\u001b[0m\u001b[0m\n\u001b[1;32m     78\u001b[0m     \u001b[0;32mdef\u001b[0m \u001b[0mclick\u001b[0m\u001b[0;34m(\u001b[0m\u001b[0mself\u001b[0m\u001b[0;34m)\u001b[0m\u001b[0;34m:\u001b[0m\u001b[0;34m\u001b[0m\u001b[0;34m\u001b[0m\u001b[0m\n",
      "\u001b[0;32m~/.pyenv/versions/3.9.0/lib/python3.9/site-packages/selenium/webdriver/remote/webelement.py\u001b[0m in \u001b[0;36m_execute\u001b[0;34m(self, command, params)\u001b[0m\n\u001b[1;32m    631\u001b[0m             \u001b[0mparams\u001b[0m \u001b[0;34m=\u001b[0m \u001b[0;34m{\u001b[0m\u001b[0;34m}\u001b[0m\u001b[0;34m\u001b[0m\u001b[0;34m\u001b[0m\u001b[0m\n\u001b[1;32m    632\u001b[0m         \u001b[0mparams\u001b[0m\u001b[0;34m[\u001b[0m\u001b[0;34m'id'\u001b[0m\u001b[0;34m]\u001b[0m \u001b[0;34m=\u001b[0m \u001b[0mself\u001b[0m\u001b[0;34m.\u001b[0m\u001b[0m_id\u001b[0m\u001b[0;34m\u001b[0m\u001b[0;34m\u001b[0m\u001b[0m\n\u001b[0;32m--> 633\u001b[0;31m         \u001b[0;32mreturn\u001b[0m \u001b[0mself\u001b[0m\u001b[0;34m.\u001b[0m\u001b[0m_parent\u001b[0m\u001b[0;34m.\u001b[0m\u001b[0mexecute\u001b[0m\u001b[0;34m(\u001b[0m\u001b[0mcommand\u001b[0m\u001b[0;34m,\u001b[0m \u001b[0mparams\u001b[0m\u001b[0;34m)\u001b[0m\u001b[0;34m\u001b[0m\u001b[0;34m\u001b[0m\u001b[0m\n\u001b[0m\u001b[1;32m    634\u001b[0m \u001b[0;34m\u001b[0m\u001b[0m\n\u001b[1;32m    635\u001b[0m     \u001b[0;32mdef\u001b[0m \u001b[0mfind_element\u001b[0m\u001b[0;34m(\u001b[0m\u001b[0mself\u001b[0m\u001b[0;34m,\u001b[0m \u001b[0mby\u001b[0m\u001b[0;34m=\u001b[0m\u001b[0mBy\u001b[0m\u001b[0;34m.\u001b[0m\u001b[0mID\u001b[0m\u001b[0;34m,\u001b[0m \u001b[0mvalue\u001b[0m\u001b[0;34m=\u001b[0m\u001b[0;32mNone\u001b[0m\u001b[0;34m)\u001b[0m\u001b[0;34m:\u001b[0m\u001b[0;34m\u001b[0m\u001b[0;34m\u001b[0m\u001b[0m\n",
      "\u001b[0;32m~/.pyenv/versions/3.9.0/lib/python3.9/site-packages/selenium/webdriver/remote/webdriver.py\u001b[0m in \u001b[0;36mexecute\u001b[0;34m(self, driver_command, params)\u001b[0m\n\u001b[1;32m    319\u001b[0m         \u001b[0mresponse\u001b[0m \u001b[0;34m=\u001b[0m \u001b[0mself\u001b[0m\u001b[0;34m.\u001b[0m\u001b[0mcommand_executor\u001b[0m\u001b[0;34m.\u001b[0m\u001b[0mexecute\u001b[0m\u001b[0;34m(\u001b[0m\u001b[0mdriver_command\u001b[0m\u001b[0;34m,\u001b[0m \u001b[0mparams\u001b[0m\u001b[0;34m)\u001b[0m\u001b[0;34m\u001b[0m\u001b[0;34m\u001b[0m\u001b[0m\n\u001b[1;32m    320\u001b[0m         \u001b[0;32mif\u001b[0m \u001b[0mresponse\u001b[0m\u001b[0;34m:\u001b[0m\u001b[0;34m\u001b[0m\u001b[0;34m\u001b[0m\u001b[0m\n\u001b[0;32m--> 321\u001b[0;31m             \u001b[0mself\u001b[0m\u001b[0;34m.\u001b[0m\u001b[0merror_handler\u001b[0m\u001b[0;34m.\u001b[0m\u001b[0mcheck_response\u001b[0m\u001b[0;34m(\u001b[0m\u001b[0mresponse\u001b[0m\u001b[0;34m)\u001b[0m\u001b[0;34m\u001b[0m\u001b[0;34m\u001b[0m\u001b[0m\n\u001b[0m\u001b[1;32m    322\u001b[0m             response['value'] = self._unwrap_value(\n\u001b[1;32m    323\u001b[0m                 response.get('value', None))\n",
      "\u001b[0;32m~/.pyenv/versions/3.9.0/lib/python3.9/site-packages/selenium/webdriver/remote/errorhandler.py\u001b[0m in \u001b[0;36mcheck_response\u001b[0;34m(self, response)\u001b[0m\n\u001b[1;32m    240\u001b[0m                 \u001b[0malert_text\u001b[0m \u001b[0;34m=\u001b[0m \u001b[0mvalue\u001b[0m\u001b[0;34m[\u001b[0m\u001b[0;34m'alert'\u001b[0m\u001b[0;34m]\u001b[0m\u001b[0;34m.\u001b[0m\u001b[0mget\u001b[0m\u001b[0;34m(\u001b[0m\u001b[0;34m'text'\u001b[0m\u001b[0;34m)\u001b[0m\u001b[0;34m\u001b[0m\u001b[0;34m\u001b[0m\u001b[0m\n\u001b[1;32m    241\u001b[0m             \u001b[0;32mraise\u001b[0m \u001b[0mexception_class\u001b[0m\u001b[0;34m(\u001b[0m\u001b[0mmessage\u001b[0m\u001b[0;34m,\u001b[0m \u001b[0mscreen\u001b[0m\u001b[0;34m,\u001b[0m \u001b[0mstacktrace\u001b[0m\u001b[0;34m,\u001b[0m \u001b[0malert_text\u001b[0m\u001b[0;34m)\u001b[0m\u001b[0;34m\u001b[0m\u001b[0;34m\u001b[0m\u001b[0m\n\u001b[0;32m--> 242\u001b[0;31m         \u001b[0;32mraise\u001b[0m \u001b[0mexception_class\u001b[0m\u001b[0;34m(\u001b[0m\u001b[0mmessage\u001b[0m\u001b[0;34m,\u001b[0m \u001b[0mscreen\u001b[0m\u001b[0;34m,\u001b[0m \u001b[0mstacktrace\u001b[0m\u001b[0;34m)\u001b[0m\u001b[0;34m\u001b[0m\u001b[0;34m\u001b[0m\u001b[0m\n\u001b[0m\u001b[1;32m    243\u001b[0m \u001b[0;34m\u001b[0m\u001b[0m\n\u001b[1;32m    244\u001b[0m     \u001b[0;32mdef\u001b[0m \u001b[0m_value_or_default\u001b[0m\u001b[0;34m(\u001b[0m\u001b[0mself\u001b[0m\u001b[0;34m,\u001b[0m \u001b[0mobj\u001b[0m\u001b[0;34m,\u001b[0m \u001b[0mkey\u001b[0m\u001b[0;34m,\u001b[0m \u001b[0mdefault\u001b[0m\u001b[0;34m)\u001b[0m\u001b[0;34m:\u001b[0m\u001b[0;34m\u001b[0m\u001b[0;34m\u001b[0m\u001b[0m\n",
      "\u001b[0;31mStaleElementReferenceException\u001b[0m: Message: stale element reference: element is not attached to the page document\n  (Session info: chrome=87.0.4280.141)\n"
     ]
    }
   ],
   "source": [
    "titles = []\n",
    "rankk = []\n",
    "categories = []\n",
    "\n",
    "for page in range(1,4):\n",
    "    browser.get(\"https://scraping-for-beginner.herokuapp.com/ranking/?page={}\".format(page))\n",
    "    elems_rankingbox = browser.find_elements_by_class_name('u_areaListRankingBox')\n",
    "    \n",
    "    for j in elems_rankingbox:\n",
    "        rank_list = j.find_element_by_class_name('u_categoryTipsItem').find_elements_by_class_name('is_rank')\n",
    "        judge_star = j.find_element_by_class_name('evaluateNumber')\n",
    "\n",
    "        ranks2 = []\n",
    "        categories2 =[]\n",
    "        \n",
    "        for i in rank_list:\n",
    "            #name = tags[rank_list.index(i)].text\n",
    "            rank = i.find_element_by_class_name('evaluateNumber').text\n",
    "            ranks2.append({name:rank})\n",
    "        \n",
    "        categories2.append(rank)\n",
    "    \n",
    "        rankk.append(judge_star.text)\n",
    "        titles.append(j.text.split(\"\\n\")[1])\n",
    "        ranks.append({j.text.split(\"\\n\")[1]:ranks2})\n",
    "        categories.append(categories2)\n",
    "\n",
    "print(ranks,\"\\n\")\n",
    "\n",
    "print(\"name\\n\", titles)\n",
    "print(\"rank\\n\", rankk)\n",
    "print(\"categories\\n\", categories)\n"
   ]
  },
  {
   "cell_type": "code",
   "execution_count": null,
   "id": "atmospheric-marina",
   "metadata": {},
   "outputs": [],
   "source": []
  }
 ],
 "metadata": {
  "kernelspec": {
   "display_name": "Python 3",
   "language": "python",
   "name": "python3"
  },
  "language_info": {
   "codemirror_mode": {
    "name": "ipython",
    "version": 3
   },
   "file_extension": ".py",
   "mimetype": "text/x-python",
   "name": "python",
   "nbconvert_exporter": "python",
   "pygments_lexer": "ipython3",
   "version": "3.9.0"
  }
 },
 "nbformat": 4,
 "nbformat_minor": 5
}
