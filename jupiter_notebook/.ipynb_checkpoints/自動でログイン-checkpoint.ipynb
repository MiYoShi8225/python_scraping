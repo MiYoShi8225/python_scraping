{
 "cells": [
  {
   "cell_type": "code",
   "execution_count": 2,
   "id": "crucial-wagner",
   "metadata": {},
   "outputs": [],
   "source": [
    "from selenium import webdriver"
   ]
  },
  {
   "cell_type": "code",
   "execution_count": 3,
   "id": "super-capture",
   "metadata": {},
   "outputs": [],
   "source": [
    "browser = webdriver.Chrome()"
   ]
  },
  {
   "cell_type": "code",
   "execution_count": 4,
   "id": "adapted-mistake",
   "metadata": {},
   "outputs": [],
   "source": [
    "browser.get('https://scraping-for-beginner.herokuapp.com/login_page')"
   ]
  },
  {
   "cell_type": "code",
   "execution_count": 5,
   "id": "unauthorized-aurora",
   "metadata": {},
   "outputs": [],
   "source": [
    "browser.quit()"
   ]
  },
  {
   "cell_type": "code",
   "execution_count": 10,
   "id": "italian-species",
   "metadata": {},
   "outputs": [],
   "source": [
    "browser = webdriver.Chrome()\n",
    "browser.get('https://scraping-for-beginner.herokuapp.com/login_page')"
   ]
  },
  {
   "cell_type": "code",
   "execution_count": 9,
   "id": "mechanical-converter",
   "metadata": {},
   "outputs": [],
   "source": [
    "browser.quit()"
   ]
  },
  {
   "cell_type": "code",
   "execution_count": 29,
   "id": "yellow-project",
   "metadata": {},
   "outputs": [],
   "source": [
    "#要素を指定\n",
    "elem_username = browser.find_element_by_id('username')"
   ]
  },
  {
   "cell_type": "code",
   "execution_count": 30,
   "id": "grand-leone",
   "metadata": {},
   "outputs": [],
   "source": [
    "elem_username.send_keys('imanishi')"
   ]
  },
  {
   "cell_type": "code",
   "execution_count": 31,
   "id": "lovely-suspension",
   "metadata": {},
   "outputs": [],
   "source": [
    "# passwordを自動で入れる"
   ]
  },
  {
   "cell_type": "code",
   "execution_count": 32,
   "id": "western-breeding",
   "metadata": {},
   "outputs": [],
   "source": [
    "elem_password = browser.find_element_by_id('password')"
   ]
  },
  {
   "cell_type": "code",
   "execution_count": 33,
   "id": "western-coach",
   "metadata": {},
   "outputs": [],
   "source": [
    "elem_password.send_keys('kohei')"
   ]
  },
  {
   "cell_type": "code",
   "execution_count": 34,
   "id": "swiss-portuguese",
   "metadata": {},
   "outputs": [],
   "source": [
    "#login-btn\n",
    "elem_login_btn = browser.find_element_by_id('login-btn')"
   ]
  },
  {
   "cell_type": "code",
   "execution_count": 35,
   "id": "otherwise-apartment",
   "metadata": {},
   "outputs": [],
   "source": [
    "elem_login_btn.click()"
   ]
  },
  {
   "cell_type": "code",
   "execution_count": null,
   "id": "fabulous-groove",
   "metadata": {},
   "outputs": [],
   "source": []
  },
  {
   "cell_type": "code",
   "execution_count": 36,
   "id": "conventional-employee",
   "metadata": {},
   "outputs": [],
   "source": [
    "#情報を抜き取る"
   ]
  },
  {
   "cell_type": "code",
   "execution_count": 39,
   "id": "touched-partner",
   "metadata": {},
   "outputs": [],
   "source": [
    "elem = browser.find_element_by_id('name')"
   ]
  },
  {
   "cell_type": "code",
   "execution_count": 40,
   "id": "computational-witch",
   "metadata": {},
   "outputs": [
    {
     "data": {
      "text/plain": [
       "'今西 航平'"
      ]
     },
     "execution_count": 40,
     "metadata": {},
     "output_type": "execute_result"
    }
   ],
   "source": [
    "elem.text"
   ]
  },
  {
   "cell_type": "code",
   "execution_count": 41,
   "id": "preliminary-midwest",
   "metadata": {},
   "outputs": [],
   "source": [
    "elem = browser.find_element_by_id('company')"
   ]
  },
  {
   "cell_type": "code",
   "execution_count": 42,
   "id": "every-opinion",
   "metadata": {},
   "outputs": [
    {
     "data": {
      "text/plain": [
       "'株式会社キカガク'"
      ]
     },
     "execution_count": 42,
     "metadata": {},
     "output_type": "execute_result"
    }
   ],
   "source": [
    "elem.text"
   ]
  },
  {
   "cell_type": "code",
   "execution_count": 43,
   "id": "white-orientation",
   "metadata": {},
   "outputs": [],
   "source": [
    "elem = browser.find_element_by_id('birthday')"
   ]
  },
  {
   "cell_type": "code",
   "execution_count": 44,
   "id": "junior-brick",
   "metadata": {},
   "outputs": [
    {
     "data": {
      "text/plain": [
       "'1994年7月15日'"
      ]
     },
     "execution_count": 44,
     "metadata": {},
     "output_type": "execute_result"
    }
   ],
   "source": [
    "elem.text"
   ]
  },
  {
   "cell_type": "code",
   "execution_count": 45,
   "id": "living-tourist",
   "metadata": {},
   "outputs": [],
   "source": [
    "elem = browser.find_element_by_id('come_from')"
   ]
  },
  {
   "cell_type": "code",
   "execution_count": 46,
   "id": "weighted-sheriff",
   "metadata": {},
   "outputs": [
    {
     "data": {
      "text/plain": [
       "'千葉県'"
      ]
     },
     "execution_count": 46,
     "metadata": {},
     "output_type": "execute_result"
    }
   ],
   "source": [
    "elem.text"
   ]
  },
  {
   "cell_type": "code",
   "execution_count": 47,
   "id": "visible-slope",
   "metadata": {},
   "outputs": [],
   "source": [
    "elem = browser.find_element_by_id('hobby')"
   ]
  },
  {
   "cell_type": "code",
   "execution_count": 54,
   "id": "rotary-wound",
   "metadata": {},
   "outputs": [
    {
     "name": "stdout",
     "output_type": "stream",
     "text": [
      "バスケットボール,読書,ガジェット集め\n"
     ]
    }
   ],
   "source": [
    "hobby = elem.text\n",
    "hobby = hobby.replace(\"\\n\",\",\")\n",
    "print(hobby)"
   ]
  },
  {
   "cell_type": "code",
   "execution_count": 55,
   "id": "regulated-single",
   "metadata": {},
   "outputs": [],
   "source": [
    "elem_th = browser.find_element_by_tag_name('th')"
   ]
  },
  {
   "cell_type": "code",
   "execution_count": 56,
   "id": "documented-equipment",
   "metadata": {},
   "outputs": [
    {
     "data": {
      "text/plain": [
       "'講師名'"
      ]
     },
     "execution_count": 56,
     "metadata": {},
     "output_type": "execute_result"
    }
   ],
   "source": [
    "elem_th.text"
   ]
  },
  {
   "cell_type": "code",
   "execution_count": 57,
   "id": "regional-chosen",
   "metadata": {},
   "outputs": [],
   "source": [
    "elems_th = browser.find_elements_by_tag_name('th')"
   ]
  },
  {
   "cell_type": "code",
   "execution_count": 61,
   "id": "potential-worth",
   "metadata": {
    "scrolled": true
   },
   "outputs": [
    {
     "data": {
      "text/plain": [
       "'講師名'"
      ]
     },
     "execution_count": 61,
     "metadata": {},
     "output_type": "execute_result"
    }
   ],
   "source": [
    "elems_th[0].text"
   ]
  },
  {
   "cell_type": "code",
   "execution_count": 62,
   "id": "opening-andorra",
   "metadata": {
    "scrolled": true
   },
   "outputs": [
    {
     "data": {
      "text/plain": [
       "'所属企業'"
      ]
     },
     "execution_count": 62,
     "metadata": {},
     "output_type": "execute_result"
    }
   ],
   "source": [
    "elems_th[1].text"
   ]
  },
  {
   "cell_type": "code",
   "execution_count": 65,
   "id": "convertible-master",
   "metadata": {},
   "outputs": [
    {
     "data": {
      "text/plain": [
       "'講師名'"
      ]
     },
     "execution_count": 65,
     "metadata": {},
     "output_type": "execute_result"
    }
   ],
   "source": [
    "elems_th = browser.find_elements_by_tag_name('th')\n",
    "elem_th = elems_th[0]\n",
    "key = elem_th.text\n",
    "key"
   ]
  },
  {
   "cell_type": "code",
   "execution_count": 66,
   "id": "italian-wilson",
   "metadata": {},
   "outputs": [],
   "source": [
    "keys = []\n",
    "elems_th = browser.find_elements_by_tag_name('th')\n",
    "for i in elems_th:\n",
    "    key = i.text\n",
    "    keys.append(key)"
   ]
  },
  {
   "cell_type": "code",
   "execution_count": 67,
   "id": "coordinate-devices",
   "metadata": {},
   "outputs": [
    {
     "data": {
      "text/plain": [
       "['講師名', '所属企業', '生年月日', '出身', '趣味']"
      ]
     },
     "execution_count": 67,
     "metadata": {},
     "output_type": "execute_result"
    }
   ],
   "source": [
    "keys"
   ]
  },
  {
   "cell_type": "code",
   "execution_count": 68,
   "id": "specified-calcium",
   "metadata": {},
   "outputs": [],
   "source": [
    "#演習"
   ]
  },
  {
   "cell_type": "code",
   "execution_count": 74,
   "id": "remarkable-coordinate",
   "metadata": {},
   "outputs": [
    {
     "name": "stdout",
     "output_type": "stream",
     "text": [
      "['株式会社キカガク', '1994年7月15日', '千葉県', 'バスケットボール\\n読書\\nガジェット集め']\n"
     ]
    }
   ],
   "source": [
    "elems_td = browser.find_elements_by_tag_name('td')\n",
    "values = []\n",
    "for i in elems_td:\n",
    "    value = i.text\n",
    "    values.append(value)\n",
    "\n",
    "#print(values)\n",
    "print(values[1:5])"
   ]
  },
  {
   "cell_type": "code",
   "execution_count": null,
   "id": "grateful-project",
   "metadata": {},
   "outputs": [],
   "source": []
  },
  {
   "cell_type": "code",
   "execution_count": null,
   "id": "demonstrated-moral",
   "metadata": {},
   "outputs": [],
   "source": [
    "#csvファイルに出力する"
   ]
  },
  {
   "cell_type": "code",
   "execution_count": null,
   "id": "cleared-territory",
   "metadata": {},
   "outputs": [],
   "source": [
    "import pandas as pd"
   ]
  },
  {
   "cell_type": "code",
   "execution_count": null,
   "id": "ideal-angle",
   "metadata": {},
   "outputs": [],
   "source": [
    "#からのDataFrameを定義\n",
    "df = pd.DataFrame()"
   ]
  },
  {
   "cell_type": "code",
   "execution_count": null,
   "id": "public-sport",
   "metadata": {},
   "outputs": [],
   "source": [
    "df['項目'] = keys\n",
    "df['値'] = values"
   ]
  },
  {
   "cell_type": "code",
   "execution_count": null,
   "id": "specific-librarian",
   "metadata": {},
   "outputs": [],
   "source": []
  },
  {
   "cell_type": "code",
   "execution_count": null,
   "id": "acting-identity",
   "metadata": {},
   "outputs": [],
   "source": []
  },
  {
   "cell_type": "code",
   "execution_count": null,
   "id": "occupational-payment",
   "metadata": {},
   "outputs": [],
   "source": []
  }
 ],
 "metadata": {
  "kernelspec": {
   "display_name": "Python 3",
   "language": "python",
   "name": "python3"
  },
  "language_info": {
   "codemirror_mode": {
    "name": "ipython",
    "version": 3
   },
   "file_extension": ".py",
   "mimetype": "text/x-python",
   "name": "python",
   "nbconvert_exporter": "python",
   "pygments_lexer": "ipython3",
   "version": "3.9.0"
  }
 },
 "nbformat": 4,
 "nbformat_minor": 5
}
