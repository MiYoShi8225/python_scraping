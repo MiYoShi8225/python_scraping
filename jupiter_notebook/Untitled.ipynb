{
 "cells": [
  {
   "cell_type": "code",
   "execution_count": 16,
   "id": "solved-remains",
   "metadata": {},
   "outputs": [],
   "source": [
    "from selenium import webdriver\n",
    "import time"
   ]
  },
  {
   "cell_type": "code",
   "execution_count": 17,
   "id": "comparable-railway",
   "metadata": {},
   "outputs": [],
   "source": [
    "url = \"https://transit.yahoo.co.jp/search/result?flatlon=&fromgid=&from={}&tlatlon=&togid=&to={}&viacode=&via=&viacode=&via=&viacode=&via=&y=2021&m=01&d=19&hh=14&m2=1&m1=0&type=1&ticket=ic&expkind=1&ws=3&s=0&al=1&shin=1&ex=1&hb=1&lb=1&sr=1&kw=%E7%A5%9E%E7%94%B0\""
   ]
  },
  {
   "cell_type": "code",
   "execution_count": 18,
   "id": "built-highway",
   "metadata": {},
   "outputs": [],
   "source": [
    "browser = webdriver.Chrome()"
   ]
  },
  {
   "cell_type": "code",
   "execution_count": 19,
   "id": "simple-concrete",
   "metadata": {},
   "outputs": [],
   "source": [
    "from_station = \"東京\""
   ]
  },
  {
   "cell_type": "code",
   "execution_count": 20,
   "id": "mathematical-organic",
   "metadata": {},
   "outputs": [],
   "source": [
    "to_station = \"神田\""
   ]
  },
  {
   "cell_type": "code",
   "execution_count": 21,
   "id": "internal-easter",
   "metadata": {
    "scrolled": true
   },
   "outputs": [],
   "source": [
    "browser.get(url.format(from_station, to_station))"
   ]
  },
  {
   "cell_type": "code",
   "execution_count": 22,
   "id": "jewish-france",
   "metadata": {},
   "outputs": [],
   "source": [
    "time.sleep(10)\n",
    "browser.quit()"
   ]
  },
  {
   "cell_type": "code",
   "execution_count": null,
   "id": "rubber-sarah",
   "metadata": {},
   "outputs": [],
   "source": []
  }
 ],
 "metadata": {
  "kernelspec": {
   "display_name": "Python 3",
   "language": "python",
   "name": "python3"
  },
  "language_info": {
   "codemirror_mode": {
    "name": "ipython",
    "version": 3
   },
   "file_extension": ".py",
   "mimetype": "text/x-python",
   "name": "python",
   "nbconvert_exporter": "python",
   "pygments_lexer": "ipython3",
   "version": "3.9.0"
  }
 },
 "nbformat": 4,
 "nbformat_minor": 5
}
